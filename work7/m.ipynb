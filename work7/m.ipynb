{
 "cells": [
  {
   "cell_type": "code",
   "execution_count": 5,
   "metadata": {},
   "outputs": [
    {
     "name": "stdout",
     "output_type": "stream",
     "text": [
      "{'Sebastian', 'Cody', 'Celia', 'David', 'Elizabeth', 'Anna', 'Madeline', 'Liam', 'Kim', 'Shannon', 'Frank', 'Karen', 'Kathryn', 'Paul', 'Katie', 'Justin', 'Marco', 'Madison', 'Eric', 'Luke', 'Chad', 'Steve', 'Logan', 'Brandy', 'Jason', 'Gregory', 'Kelsey', 'Leila', 'Giselle', 'Matt', 'Brandon', 'Catherine', 'Kendall', 'Peter', 'Courtney', 'Lucia', 'Caleb', 'Frances', 'Alyssa', 'Kayla', 'Arthur', 'Jennifer', 'Diego', 'Meghan', 'Sydney', 'Taylor', 'Jesse', 'Angela', 'Thomas', 'Vincent', 'Hayden', 'Tristan', 'Samantha', 'Brittany', 'Zachary', 'Gina', 'Mariah', 'Bryant', 'Casey', 'Jonathan', 'Jackie', 'Stuart', 'Ryan', 'Martha', 'Theodore', 'Tracy', 'Mackenzie', 'Laren', 'Kimberly', 'Lindsey', 'Paula', 'Rebecca', 'Brett', 'Michaela', 'Michael', 'Scott', 'Kristen', 'Megan', 'Jessica', 'Julia', 'Lily', 'Ellen', 'Kyle', 'Katherine', 'Clayton', 'Anthony', 'Olivia', 'Andrew', 'Deshawn', 'Christopher', 'Kaitlyn', 'Matthew', 'Harry', 'Richard', 'Ashley', 'Jordan', 'Steven', 'Darren', 'Laura', 'Sarah', 'Pauline', 'Mark', 'Maria', 'Alejandro', 'Kelly', 'Naomi', 'Jeanne', 'Lori', 'William', 'Isabella', 'Jessie', 'Nicole'}\n"
     ]
    }
   ],
   "source": [
    "with open('./in/0', 'r', encoding='utf-8') as f:\n",
    "    print(set([x.capitalize().strip() for x in f.readlines()]))"
   ]
  },
  {
   "cell_type": "code",
   "execution_count": 13,
   "metadata": {},
   "outputs": [],
   "source": [
    "import random\n",
    "with open('./in/0', 'r', encoding='utf-8') as f:\n",
    "    name_list = [x.strip() for x in f.readlines()]\n",
    "random.shuffle(name_list)\n",
    "if len(name_list) > 100:\n",
    "    name_list = name_list[:100]\n",
    "\n",
    "with open('./in/3.in', 'w', encoding='utf-8') as f:\n",
    "    print(len(name_list), file=f)\n",
    "    for name in name_list:\n",
    "        print(name + random.randint(0,3)*' ', random.randint(0, 100), file=f)"
   ]
  }
 ],
 "metadata": {
  "kernelspec": {
   "display_name": "Python 3",
   "language": "python",
   "name": "python3"
  },
  "language_info": {
   "codemirror_mode": {
    "name": "ipython",
    "version": 3
   },
   "file_extension": ".py",
   "mimetype": "text/x-python",
   "name": "python",
   "nbconvert_exporter": "python",
   "pygments_lexer": "ipython3",
   "version": "3.10.6"
  },
  "orig_nbformat": 4,
  "vscode": {
   "interpreter": {
    "hash": "916dbcbb3f70747c44a77c7bcd40155683ae19c65e1c03b4aa3499c5328201f1"
   }
  }
 },
 "nbformat": 4,
 "nbformat_minor": 2
}
